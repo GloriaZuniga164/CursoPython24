{
  "nbformat": 4,
  "nbformat_minor": 0,
  "metadata": {
    "colab": {
      "provenance": [],
      "authorship_tag": "ABX9TyPvCfoqCQqa6XHkETzmFV5h",
      "include_colab_link": true
    },
    "kernelspec": {
      "name": "python3",
      "display_name": "Python 3"
    },
    "language_info": {
      "name": "python"
    }
  },
  "cells": [
    {
      "cell_type": "markdown",
      "metadata": {
        "id": "view-in-github",
        "colab_type": "text"
      },
      "source": [
        "<a href=\"https://colab.research.google.com/github/GloriaZuniga164/CursoPython24/blob/main/limites.ipynb\" target=\"_parent\"><img src=\"https://colab.research.google.com/assets/colab-badge.svg\" alt=\"Open In Colab\"/></a>"
      ]
    },
    {
      "cell_type": "markdown",
      "source": [
        "Obtener el Límite de una Función en Python"
      ],
      "metadata": {
        "id": "9r6sr4ZpWZXG"
      }
    },
    {
      "cell_type": "code",
      "execution_count": null,
      "metadata": {
        "colab": {
          "base_uri": "https://localhost:8080/",
          "height": 53
        },
        "id": "KugObOFBSdnv",
        "outputId": "52c26c9c-8a30-448b-9bb0-b7e1dea601cb"
      },
      "outputs": [
        {
          "output_type": "execute_result",
          "data": {
            "text/plain": [
              "sin(4)/4"
            ],
            "text/latex": "$\\displaystyle \\frac{\\sin{\\left(4 \\right)}}{4}$"
          },
          "metadata": {},
          "execution_count": 2
        }
      ],
      "source": [
        "from sympy import symbols, limit, sin\n",
        "x=symbols('x')\n",
        "limit(sin(x)/x, x, 4)\n"
      ]
    },
    {
      "cell_type": "code",
      "source": [
        "from sympy import symbols, limit, sin, pi\n",
        "\n",
        "x=symbols('x')\n",
        "limit((1-2*sin(x))/(pi -6*x), x, pi/6)"
      ],
      "metadata": {
        "colab": {
          "base_uri": "https://localhost:8080/",
          "height": 55
        },
        "id": "-A0cKwAeXrzf",
        "outputId": "41ab1f0c-2316-43c5-c3e9-5b514efe9587"
      },
      "execution_count": null,
      "outputs": [
        {
          "output_type": "execute_result",
          "data": {
            "text/plain": [
              "sqrt(3)/6"
            ],
            "text/latex": "$\\displaystyle \\frac{\\sqrt{3}}{6}$"
          },
          "metadata": {},
          "execution_count": 11
        }
      ]
    },
    {
      "cell_type": "code",
      "source": [
        "from sympy import symbols, limit, sqrt\n",
        "x = symbols('x')\n",
        "fx = sqrt(x-1)\n",
        "limit(fx,x,1,'+')"
      ],
      "metadata": {
        "colab": {
          "base_uri": "https://localhost:8080/",
          "height": 37
        },
        "id": "rNntR9x0Ys0X",
        "outputId": "4ffd4e78-6889-41d2-d9c6-a94a134c4c44"
      },
      "execution_count": null,
      "outputs": [
        {
          "output_type": "execute_result",
          "data": {
            "text/plain": [
              "0"
            ],
            "text/latex": "$\\displaystyle 0$"
          },
          "metadata": {},
          "execution_count": 8
        }
      ]
    },
    {
      "cell_type": "code",
      "source": [
        "from sympy import symbols, diff, sin\n",
        "x = symbols('x')\n",
        "diff(sin(x)/x,x)\n",
        "\n"
      ],
      "metadata": {
        "colab": {
          "base_uri": "https://localhost:8080/",
          "height": 53
        },
        "id": "y8ZjuBtqZK-g",
        "outputId": "16a85f57-1aee-4014-cd0c-f10fd5ea01d9"
      },
      "execution_count": null,
      "outputs": [
        {
          "output_type": "execute_result",
          "data": {
            "text/plain": [
              "cos(x)/x - sin(x)/x**2"
            ],
            "text/latex": "$\\displaystyle \\frac{\\cos{\\left(x \\right)}}{x} - \\frac{\\sin{\\left(x \\right)}}{x^{2}}$"
          },
          "metadata": {},
          "execution_count": 17
        }
      ]
    },
    {
      "cell_type": "code",
      "source": [
        "from sympy import symbols, diff, sin\n",
        "x = symbols('x')\n",
        "dx = diff(sin(x)/x,x)\n",
        "dx.subs(x, 4).evalf()"
      ],
      "metadata": {
        "id": "Mbvea__laiAo"
      },
      "execution_count": null,
      "outputs": []
    },
    {
      "cell_type": "code",
      "source": [
        "from sympy import symbols, diff, sin, ln, exp\n",
        "x = symbols('x')\n",
        "diff(ln((4**(7*x**2))/(5*exp(3*x**5))), x)"
      ],
      "metadata": {
        "colab": {
          "base_uri": "https://localhost:8080/",
          "height": 68
        },
        "id": "YuDGQB0za60V",
        "outputId": "9dd9b5be-84c1-42aa-eacf-0e4fb73642a6"
      },
      "execution_count": null,
      "outputs": [
        {
          "output_type": "execute_result",
          "data": {
            "text/plain": [
              "5*(-3*4**(7*x**2)*x**4*exp(-3*x**5) + 14*4**(7*x**2)*x*exp(-3*x**5)*log(4)/5)*exp(3*x**5)/4**(7*x**2)"
            ],
            "text/latex": "$\\displaystyle 5 \\cdot 4^{- 7 x^{2}} \\left(- 3 \\cdot 4^{7 x^{2}} x^{4} e^{- 3 x^{5}} + \\frac{14 \\cdot 4^{7 x^{2}} x e^{- 3 x^{5}} \\log{\\left(4 \\right)}}{5}\\right) e^{3 x^{5}}$"
          },
          "metadata": {},
          "execution_count": 20
        }
      ]
    },
    {
      "cell_type": "code",
      "source": [
        "from sympy import symbols, diff, sin, ln, exp\n",
        "from sympy.plotting import plot\n",
        "x = symbols('x')\n",
        "fx = (ln((4**(7*x**2))/(5*exp(3*x**5))), x)\n",
        "diff(fx, x)\n"
      ],
      "metadata": {
        "colab": {
          "base_uri": "https://localhost:8080/",
          "height": 68
        },
        "id": "qfh_O8Xwd_z4",
        "outputId": "a2ed7395-277f-4987-fbc5-d8c3b4dc8dc0"
      },
      "execution_count": null,
      "outputs": [
        {
          "output_type": "execute_result",
          "data": {
            "text/plain": [
              "Derivative((log(4**(7*x**2)*exp(-3*x**5)/5), x), x)"
            ],
            "text/latex": "$\\displaystyle \\frac{d}{d x} \\left( \\log{\\left(\\frac{4^{7 x^{2}} e^{- 3 x^{5}}}{5} \\right)}, \\  x\\right)$"
          },
          "metadata": {},
          "execution_count": 22
        }
      ]
    },
    {
      "cell_type": "code",
      "source": [
        "from sympy import symbols, diff, sin, ln, exp, solve\n",
        "x = symbols('x')\n",
        "fx = (ln((4**(7*x**2))/(5*exp(3*x**5))), x)\n",
        "diff(fx, x)\n",
        "solution = solve(fx, 1)\n",
        "print('solución: ', solution)"
      ],
      "metadata": {
        "colab": {
          "base_uri": "https://localhost:8080/"
        },
        "id": "I7itHoVWfMHY",
        "outputId": "a705d76b-1154-4c35-8c1c-fbdddca30e12"
      },
      "execution_count": null,
      "outputs": [
        {
          "output_type": "stream",
          "name": "stdout",
          "text": [
            "solución:  []\n"
          ]
        }
      ]
    },
    {
      "cell_type": "code",
      "source": [
        "import numpy as np\n",
        "\n",
        "def f(x):\n",
        "  return np.ln((4**(7*x**2))/(5*exp(3*x**5)))\n"
      ],
      "metadata": {
        "id": "-QAtkgJfhF50"
      },
      "execution_count": null,
      "outputs": []
    },
    {
      "cell_type": "code",
      "source": [
        "from sympy import symbols, integrate, sin, ln, exp, solve\n",
        "x = symbols('x')\n",
        "integrate(sin(x), x)\n"
      ],
      "metadata": {
        "colab": {
          "base_uri": "https://localhost:8080/",
          "height": 38
        },
        "id": "j8m5VUkdhw-f",
        "outputId": "465a3f4f-629b-4db4-ef0d-9271d983d906"
      },
      "execution_count": null,
      "outputs": [
        {
          "output_type": "execute_result",
          "data": {
            "text/plain": [
              "-cos(x)"
            ],
            "text/latex": "$\\displaystyle - \\cos{\\left(x \\right)}$"
          },
          "metadata": {},
          "execution_count": 37
        }
      ]
    },
    {
      "cell_type": "code",
      "source": [
        "from sympy import symbols, integrate, sin, ln, exp, solve\n",
        "x = symbols('x')\n",
        "integrate(sin(x), x, (x, -1,1))"
      ],
      "metadata": {
        "colab": {
          "base_uri": "https://localhost:8080/",
          "height": 37
        },
        "id": "vjDgOEuNkNMO",
        "outputId": "8bff9567-3f10-4fb4-f458-5a6f848d7302"
      },
      "execution_count": null,
      "outputs": [
        {
          "output_type": "execute_result",
          "data": {
            "text/plain": [
              "-2*sin(1)"
            ],
            "text/latex": "$\\displaystyle - 2 \\sin{\\left(1 \\right)}$"
          },
          "metadata": {},
          "execution_count": 33
        }
      ]
    },
    {
      "cell_type": "code",
      "source": [
        "from sympy import symbols, integrate, sin, ln, exp, solve\n",
        "from sympy.plotting import plot\n",
        "x = symbols('x')\n",
        "print(integrate(sin(x), x, (x, -1,1)))\n",
        "plot(sin(x), (x,-1,1))"
      ],
      "metadata": {
        "colab": {
          "base_uri": "https://localhost:8080/",
          "height": 523
        },
        "id": "Ezo3pZGnkcRz",
        "outputId": "909c9e24-ba4b-405f-d8e2-6c810bce364d"
      },
      "execution_count": null,
      "outputs": [
        {
          "output_type": "stream",
          "name": "stdout",
          "text": [
            "-2*sin(1)\n"
          ]
        },
        {
          "output_type": "display_data",
          "data": {
            "text/plain": [
              "<Figure size 640x480 with 1 Axes>"
            ],
            "image/png": "[encoded data removed]"
          },
          "metadata": {}
        },
        {
          "output_type": "execute_result",
          "data": {
            "text/plain": [
              "<sympy.plotting.plot.Plot at 0x7e1f32e1ffa0>"
            ]
          },
          "metadata": {},
          "execution_count": 36
        }
      ]
    },
    {
      "cell_type": "code",
      "source": [
        "from sympy import symbols, integrate, sin, ln, exp, sqrt\n",
        "x = symbols('x')\n",
        "integrate((1-x)/sqrt(2-x), x)"
      ],
      "metadata": {
        "colab": {
          "base_uri": "https://localhost:8080/",
          "height": 69
        },
        "id": "N6tFgn99lJeJ",
        "outputId": "c851baef-897b-46d5-e928-210fc692ae0c"
      },
      "execution_count": null,
      "outputs": [
        {
          "output_type": "execute_result",
          "data": {
            "text/plain": [
              "Piecewise((2*I*sqrt(x - 2)*(x - 1)/3 + 4*I*sqrt(x - 2)/3, Abs(x - 1) > 1), (2*sqrt(2 - x)*(x - 1)/3 + 4*sqrt(2 - x)/3, True))"
            ],
            "text/latex": "$\\displaystyle \\begin{cases} \\frac{2 i \\sqrt{x - 2} \\left(x - 1\\right)}{3} + \\frac{4 i \\sqrt{x - 2}}{3} & \\text{for}\\: \\left|{x - 1}\\right| > 1 \\\\\\frac{2 \\sqrt{2 - x} \\left(x - 1\\right)}{3} + \\frac{4 \\sqrt{2 - x}}{3} & \\text{otherwise} \\end{cases}$"
          },
          "metadata": {},
          "execution_count": 38
        }
      ]
    },
    {
      "cell_type": "code",
      "source": [
        "from sympy import symbols, integrate, sin, ln, exp, sqrt\n",
        "x = symbols('x')\n",
        "integrate((1-x)/sqrt(2-x), x,(x, -1,1))"
      ],
      "metadata": {
        "colab": {
          "base_uri": "https://localhost:8080/",
          "height": 55
        },
        "id": "-Zu_RP84mh_U",
        "outputId": "069c6360-0abe-447c-f542-9b530208a5c7"
      },
      "execution_count": null,
      "outputs": [
        {
          "output_type": "execute_result",
          "data": {
            "text/plain": [
              "-8*sqrt(3)/5 - 16/15 + 16*sqrt(2)/5"
            ],
            "text/latex": "$\\displaystyle - \\frac{8 \\sqrt{3}}{5} - \\frac{16}{15} + \\frac{16 \\sqrt{2}}{5}$"
          },
          "metadata": {},
          "execution_count": 41
        }
      ]
    },
    {
      "cell_type": "code",
      "source": [
        "import numpy as np\n",
        "import matplotlib.pyplot as pl\n",
        "\n",
        "paso = .01\n",
        "p = np.arange(-1, 1, paso)\n",
        "\n",
        "ft = np.sin(np.sqrt(3)*p*np.tan(p))\n",
        "\n",
        "pl.plot(p,ft, 'r')\n",
        "pl.fill_between(p,ft,color=(1,.616,0,.459))\n",
        "pl.title(\"sin[3^(1/2)t]tan[t]\")\n",
        "pl.show()\n",
        "\n",
        "AreaFt = np.sum(paso*ft)\n",
        "\n",
        "print(\"El área bajo la curva es: \", AreaFt)\n",
        "\n"
      ],
      "metadata": {
        "colab": {
          "base_uri": "https://localhost:8080/",
          "height": 470
        },
        "id": "3wIDoJtipDJj",
        "outputId": "b2514aaa-f7f6-4b97-d69e-29117e854841"
      },
      "execution_count": null,
      "outputs": [
        {
          "output_type": "display_data",
          "data": {
            "text/plain": [
              "<Figure size 640x480 with 1 Axes>"
            ],
            "image/png": "[encoded data removed]"
          },
          "metadata": {}
        },
        {
          "output_type": "stream",
          "name": "stdout",
          "text": [
            "El área bajo la curva es:  0.9379354009448987\n"
          ]
        }
      ]
    },
    {
      "cell_type": "code",
      "source": [
        "import math\n",
        "\n",
        "fx = []\n",
        "area2 = 0\n",
        "\n",
        "def fun2(x):\n",
        "  return np.sin(np.sqrt(3)*x)*np.tan(x)\n",
        "\n",
        "for h in p:\n",
        "   y = fun2(h)\n",
        "   fx.append(y)\n",
        "   area2 += paso*y\n",
        "\n",
        "print(\"El área bajo la curva con ciclos es: \", area2)\n",
        "\n",
        "fig, ax = pl.subplots()\n",
        "ax.plot(p,fx)\n",
        "ax.fill_between(p,ft,color=(1, 0.984,1,.459))\n"
      ],
      "metadata": {
        "colab": {
          "base_uri": "https://localhost:8080/",
          "height": 468
        },
        "id": "tVOa2Hndr_kD",
        "outputId": "005cb18e-2727-4e40-8934-ef719e5d0c55"
      },
      "execution_count": null,
      "outputs": [
        {
          "output_type": "stream",
          "name": "stdout",
          "text": [
            "El área bajo la curva con ciclos es:  1.0641677725214274\n"
          ]
        },
        {
          "output_type": "execute_result",
          "data": {
            "text/plain": [
              "<matplotlib.collections.PolyCollection at 0x7e1f30858580>"
            ]
          },
          "metadata": {},
          "execution_count": 44
        },
        {
          "output_type": "display_data",
          "data": {
            "text/plain": [
              "<Figure size 640x480 with 1 Axes>"
            ],
            "image/png": "[encoded data removed]"
          },
          "metadata": {}
        }
      ]
    },
    {
      "cell_type": "code",
      "source": [
        "from sympy import symbols, Integral, sin\n",
        "\n",
        "x = symbols('x')\n",
        "intsen = Integral(sin(x), (x, -1,1))\n",
        "print(\"El resultado es: \", intsen.evalf())"
      ],
      "metadata": {
        "id": "xO-656A3m7I1"
      },
      "execution_count": null,
      "outputs": []
    },
    {
      "cell_type": "markdown",
      "source": [
        "Usando la función integrate"
      ],
      "metadata": {
        "id": "GwHkhCwqm8ds"
      }
    },
    {
      "cell_type": "code",
      "source": [
        "from sympy import symbols, integrate, exp, oo\n",
        "\n",
        "x = symbols('x')\n",
        "print(integrate(exp(-x),(x,0,oo)))"
      ],
      "metadata": {
        "colab": {
          "base_uri": "https://localhost:8080/"
        },
        "id": "1idTOXQknEeE",
        "outputId": "efefe0fa-89d3-4e00-d591-e62f23d5d4f2"
      },
      "execution_count": null,
      "outputs": [
        {
          "output_type": "stream",
          "name": "stdout",
          "text": [
            "1\n"
          ]
        }
      ]
    }
  ]
}