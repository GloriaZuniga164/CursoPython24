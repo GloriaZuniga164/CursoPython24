{
  "nbformat": 4,
  "nbformat_minor": 0,
  "metadata": {
    "colab": {
      "provenance": [],
      "authorship_tag": "ABX9TyOyWJ6WGvfXyVxVumIx3MqL",
      "include_colab_link": true
    },
    "kernelspec": {
      "name": "python3",
      "display_name": "Python 3"
    },
    "language_info": {
      "name": "python"
    }
  },
  "cells": [
    {
      "cell_type": "markdown",
      "metadata": {
        "id": "view-in-github",
        "colab_type": "text"
      },
      "source": [
        "<a href=\"https://colab.research.google.com/github/GloriaZuniga164/CursoPython24/blob/main/MCD.ipynb\" target=\"_parent\"><img src=\"https://colab.research.google.com/assets/colab-badge.svg\" alt=\"Open In Colab\"/></a>"
      ]
    },
    {
      "cell_type": "markdown",
      "source": [
        "## Máximo Común Divisor // Algoritmo de Euclides"
      ],
      "metadata": {
        "id": "wLSlMrKQZEIB"
      }
    },
    {
      "cell_type": "code",
      "execution_count": null,
      "metadata": {
        "colab": {
          "base_uri": "https://localhost:8080/"
        },
        "id": "zaiFc8EfY-2K",
        "outputId": "a766c125-a229-44bc-db48-9f36c312cf45"
      },
      "outputs": [
        {
          "name": "stdout",
          "output_type": "stream",
          "text": [
            "Dame el primer entero:18\n",
            "Dame el segundo entero:9\n"
          ]
        }
      ],
      "source": [
        "a = int(input(\"Dame el primer entero:\"))\n",
        "b = int(input(\"Dame el segundo entero:\"))"
      ]
    },
    {
      "cell_type": "markdown",
      "source": [
        "Obtener el máximo común divisor por el método de Euclides"
      ],
      "metadata": {
        "id": "5fcd0Z-uaK3f"
      }
    },
    {
      "cell_type": "code",
      "source": [
        "q = a//b\n",
        "r = a-b*q\n",
        "if r ! = 0 :\n",
        "   a = b\n",
        "   b = r\n",
        "   print(a,b)\n",
        "   q = a//b\n",
        "   r = a - b*q\n",
        "   if r != 0:\n",
        "      a = b\n"
      ],
      "metadata": {
        "id": "Melz8568aXO3"
      },
      "execution_count": null,
      "outputs": []
    },
    {
      "cell_type": "code",
      "source": [
        "a = int(input(\"Dame el primer entero:\"))\n",
        "b = int(input(\"Dame el segundo entero:\"))\n",
        "\n",
        "q = a//b\n",
        "r = a - b*q\n",
        "while r !=0:\n",
        "   a = b\n",
        "   b = r\n",
        "   print(a,b)\n",
        "   q = a//b\n",
        "   r = a - b*q\n",
        "print(\"El máximo común divisor es: \", b)\n"
      ],
      "metadata": {
        "colab": {
          "base_uri": "https://localhost:8080/"
        },
        "id": "CfTzagAtbmdc",
        "outputId": "a3f71199-d576-49d5-dade-a03b2bb0fcb1"
      },
      "execution_count": null,
      "outputs": [
        {
          "output_type": "stream",
          "name": "stdout",
          "text": [
            "Dame el primer entero:30\n",
            "Dame el segundo entero:42\n",
            "42 30\n",
            "30 12\n",
            "12 6\n",
            "El máximo común divisor es:  6\n"
          ]
        }
      ]
    },
    {
      "cell_type": "code",
      "source": [
        "while True:\n",
        "  a = int(input(\"Dame el primer entero:\"))\n",
        "  b = int(input(\"Dame el segundo entero:\"))\n",
        "  if a>0 and b>0:\n",
        "    break\n",
        "  print(\"Ambos números deben ser mayores a 0\")\n",
        "\n",
        "# a=b*q+r    0<=r<|b|\n",
        "q = a//b\n",
        "r = a - b*q\n",
        "while r !=0:\n",
        "  a = b\n",
        "  b = r\n",
        "  q = a//b\n",
        "  r = a - b*q\n",
        "print(\"El máximo común divisor es: \", b)"
      ],
      "metadata": {
        "colab": {
          "base_uri": "https://localhost:8080/"
        },
        "id": "6FdPPMBgWABY",
        "outputId": "200b1d39-2f3d-4ad5-9ab4-23acfe1cd08a"
      },
      "execution_count": null,
      "outputs": [
        {
          "output_type": "stream",
          "name": "stdout",
          "text": [
            "Dame el primer entero:80\n",
            "Dame el segundo entero:20\n",
            "El máximo común divisor es:  20\n"
          ]
        }
      ]
    },
    {
      "cell_type": "markdown",
      "source": [
        "###Actividad\n",
        "\n",
        "Encontrar el Máximo Común Divisor de dos números enteros\n"
      ],
      "metadata": {
        "id": "prsYqTCxXjfH"
      }
    },
    {
      "cell_type": "code",
      "source": [
        "\n",
        "a = abs(int(input(\"Dame el primer entero:\")))\n",
        "b = abs(int(input(\"Dame el segundo entero:\")))\n",
        "\n",
        "q = a//b\n",
        "r = a - b*q\n",
        "while r !=0:\n",
        "  a = b\n",
        "  b = r\n",
        "  print(a,b)\n",
        "  q = a//b\n",
        "  r = a - b*q\n",
        "print(\"El máximo común divisor es: \", b)"
      ],
      "metadata": {
        "colab": {
          "base_uri": "https://localhost:8080/"
        },
        "id": "eYax2VNbfVUS",
        "outputId": "02095869-d161-40b3-e8dc-628201393d93"
      },
      "execution_count": 1,
      "outputs": [
        {
          "output_type": "stream",
          "name": "stdout",
          "text": [
            "Dame el primer entero:-24\n",
            "Dame el segundo entero:48\n",
            "48 24\n",
            "El máximo común divisor es:  24\n"
          ]
        }
      ]
    }
  ]
}