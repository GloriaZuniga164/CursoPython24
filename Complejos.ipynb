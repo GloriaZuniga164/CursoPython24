{
  "nbformat": 4,
  "nbformat_minor": 0,
  "metadata": {
    "colab": {
      "provenance": [],
      "authorship_tag": "ABX9TyPN70JUc9Kb2668oA1uDEez",
      "include_colab_link": true
    },
    "kernelspec": {
      "name": "python3",
      "display_name": "Python 3"
    },
    "language_info": {
      "name": "python"
    }
  },
  "cells": [
    {
      "cell_type": "markdown",
      "metadata": {
        "id": "view-in-github",
        "colab_type": "text"
      },
      "source": [
        "<a href=\"https://colab.research.google.com/github/GloriaZuniga164/CursoPython24/blob/main/Complejos.ipynb\" target=\"_parent\"><img src=\"https://colab.research.google.com/assets/colab-badge.svg\" alt=\"Open In Colab\"/></a>"
      ]
    },
    {
      "cell_type": "markdown",
      "source": [
        "###División de Números Complejos"
      ],
      "metadata": {
        "id": "4fPFumFPTOP_"
      }
    },
    {
      "cell_type": "code",
      "source": [
        "from sympy import  symbols\n",
        "import math\n",
        "\n",
        "a = float(int(input(\"Da la parte real del primer número complejo: \")))\n",
        "b = float(int(input(\"Da la parte imaginaria del primer número complejo: \")))\n",
        "c = float(int(input(\"Da la parte real del segundo número complejo: \")))\n",
        "d = float(int(input(\"Da la parte imaginaria del segundo número complejo: \")))\n",
        "\n",
        "print(\"Los números complejos son\", a ,\"+\", b, \"i\", \"y\", c, \"+\", d, \"i\")\n",
        "\n",
        "if c == 0 and d == 0:\n",
        "   # break\n",
        "  print(\"El segundo números complejo debe ser diferente de 0\")\n",
        "else:\n",
        "  x = (a*c + b*d)/(c**2 + d**2)\n",
        "  y = (b*c - a*d)/(c**2 + d**2)\n",
        "  print(\"La división es\", x, \"+\", y, \"i\")"
      ],
      "metadata": {
        "colab": {
          "base_uri": "https://localhost:8080/"
        },
        "id": "P0k9kHYgVYQn",
        "outputId": "94af7bf7-2a70-4dc3-cf6e-67ccb05583a5"
      },
      "execution_count": 23,
      "outputs": [
        {
          "output_type": "stream",
          "name": "stdout",
          "text": [
            "Da la parte real del primer número complejo: 5\n",
            "Da la parte imaginaria del primer número complejo: -3\n",
            "Da la parte real del segundo número complejo: 2\n",
            "Da la parte imaginaria del segundo número complejo: 4\n",
            "Los números complejos son 5.0 + -3.0 i y 2.0 + 4.0 i\n",
            "La división es -0.1 + -1.3 i\n"
          ]
        }
      ]
    }
  ]
}